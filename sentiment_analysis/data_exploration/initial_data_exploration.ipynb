{
 "cells": [
  {
   "cell_type": "code",
   "execution_count": 2,
   "id": "5f3f6558-a9ce-4c14-9617-382e43d8ff4f",
   "metadata": {},
   "outputs": [],
   "source": [
    "import pandas as pd"
   ]
  },
  {
   "cell_type": "code",
   "execution_count": 5,
   "id": "fe7ff77e-9322-4194-ba05-70959ce992d7",
   "metadata": {},
   "outputs": [],
   "source": [
    "text_csv_path = \"../../data/labelled_text.csv\""
   ]
  },
  {
   "cell_type": "code",
   "execution_count": 6,
   "id": "95a16f30-d101-46d5-a388-d093e4debb39",
   "metadata": {},
   "outputs": [],
   "source": [
    "df = pd.read_csv(text_csv_path, encoding='ISO-8859-1', header=None,)"
   ]
  },
  {
   "cell_type": "code",
   "execution_count": 7,
   "id": "6177be08-4002-4c86-95f8-674829d1e93b",
   "metadata": {},
   "outputs": [
    {
     "data": {
      "text/html": [
       "<div>\n",
       "<style scoped>\n",
       "    .dataframe tbody tr th:only-of-type {\n",
       "        vertical-align: middle;\n",
       "    }\n",
       "\n",
       "    .dataframe tbody tr th {\n",
       "        vertical-align: top;\n",
       "    }\n",
       "\n",
       "    .dataframe thead th {\n",
       "        text-align: right;\n",
       "    }\n",
       "</style>\n",
       "<table border=\"1\" class=\"dataframe\">\n",
       "  <thead>\n",
       "    <tr style=\"text-align: right;\">\n",
       "      <th></th>\n",
       "      <th>0</th>\n",
       "      <th>1</th>\n",
       "      <th>2</th>\n",
       "      <th>3</th>\n",
       "    </tr>\n",
       "  </thead>\n",
       "  <tbody>\n",
       "    <tr>\n",
       "      <th>0</th>\n",
       "      <td>2401</td>\n",
       "      <td>Borderlands</td>\n",
       "      <td>Positive</td>\n",
       "      <td>im getting on borderlands and i will murder yo...</td>\n",
       "    </tr>\n",
       "    <tr>\n",
       "      <th>1</th>\n",
       "      <td>2401</td>\n",
       "      <td>Borderlands</td>\n",
       "      <td>Positive</td>\n",
       "      <td>I am coming to the borders and I will kill you...</td>\n",
       "    </tr>\n",
       "    <tr>\n",
       "      <th>2</th>\n",
       "      <td>2401</td>\n",
       "      <td>Borderlands</td>\n",
       "      <td>Positive</td>\n",
       "      <td>im getting on borderlands and i will kill you ...</td>\n",
       "    </tr>\n",
       "    <tr>\n",
       "      <th>3</th>\n",
       "      <td>2401</td>\n",
       "      <td>Borderlands</td>\n",
       "      <td>Positive</td>\n",
       "      <td>im coming on borderlands and i will murder you...</td>\n",
       "    </tr>\n",
       "    <tr>\n",
       "      <th>4</th>\n",
       "      <td>2401</td>\n",
       "      <td>Borderlands</td>\n",
       "      <td>Positive</td>\n",
       "      <td>im getting on borderlands 2 and i will murder ...</td>\n",
       "    </tr>\n",
       "    <tr>\n",
       "      <th>...</th>\n",
       "      <td>...</td>\n",
       "      <td>...</td>\n",
       "      <td>...</td>\n",
       "      <td>...</td>\n",
       "    </tr>\n",
       "    <tr>\n",
       "      <th>74677</th>\n",
       "      <td>9200</td>\n",
       "      <td>Nvidia</td>\n",
       "      <td>Positive</td>\n",
       "      <td>Just realized that the Windows partition of my...</td>\n",
       "    </tr>\n",
       "    <tr>\n",
       "      <th>74678</th>\n",
       "      <td>9200</td>\n",
       "      <td>Nvidia</td>\n",
       "      <td>Positive</td>\n",
       "      <td>Just realized that my Mac window partition is ...</td>\n",
       "    </tr>\n",
       "    <tr>\n",
       "      <th>74679</th>\n",
       "      <td>9200</td>\n",
       "      <td>Nvidia</td>\n",
       "      <td>Positive</td>\n",
       "      <td>Just realized the windows partition of my Mac ...</td>\n",
       "    </tr>\n",
       "    <tr>\n",
       "      <th>74680</th>\n",
       "      <td>9200</td>\n",
       "      <td>Nvidia</td>\n",
       "      <td>Positive</td>\n",
       "      <td>Just realized between the windows partition of...</td>\n",
       "    </tr>\n",
       "    <tr>\n",
       "      <th>74681</th>\n",
       "      <td>9200</td>\n",
       "      <td>Nvidia</td>\n",
       "      <td>Positive</td>\n",
       "      <td>Just like the windows partition of my Mac is l...</td>\n",
       "    </tr>\n",
       "  </tbody>\n",
       "</table>\n",
       "<p>74682 rows × 4 columns</p>\n",
       "</div>"
      ],
      "text/plain": [
       "          0            1         2  \\\n",
       "0      2401  Borderlands  Positive   \n",
       "1      2401  Borderlands  Positive   \n",
       "2      2401  Borderlands  Positive   \n",
       "3      2401  Borderlands  Positive   \n",
       "4      2401  Borderlands  Positive   \n",
       "...     ...          ...       ...   \n",
       "74677  9200       Nvidia  Positive   \n",
       "74678  9200       Nvidia  Positive   \n",
       "74679  9200       Nvidia  Positive   \n",
       "74680  9200       Nvidia  Positive   \n",
       "74681  9200       Nvidia  Positive   \n",
       "\n",
       "                                                       3  \n",
       "0      im getting on borderlands and i will murder yo...  \n",
       "1      I am coming to the borders and I will kill you...  \n",
       "2      im getting on borderlands and i will kill you ...  \n",
       "3      im coming on borderlands and i will murder you...  \n",
       "4      im getting on borderlands 2 and i will murder ...  \n",
       "...                                                  ...  \n",
       "74677  Just realized that the Windows partition of my...  \n",
       "74678  Just realized that my Mac window partition is ...  \n",
       "74679  Just realized the windows partition of my Mac ...  \n",
       "74680  Just realized between the windows partition of...  \n",
       "74681  Just like the windows partition of my Mac is l...  \n",
       "\n",
       "[74682 rows x 4 columns]"
      ]
     },
     "execution_count": 7,
     "metadata": {},
     "output_type": "execute_result"
    }
   ],
   "source": [
    "df"
   ]
  },
  {
   "cell_type": "code",
   "execution_count": 8,
   "id": "8ace13b3-6b49-4efa-853c-9a585c42080e",
   "metadata": {},
   "outputs": [
    {
     "name": "stdout",
     "output_type": "stream",
     "text": [
      "Unique labels: ['Positive' 'Neutral' 'Negative' 'Irrelevant']\n",
      "Count the unique values: \n",
      " Negative      22542\n",
      "Positive      20832\n",
      "Neutral       18318\n",
      "Irrelevant    12990\n",
      "Name: 2, dtype: int64\n"
     ]
    }
   ],
   "source": [
    "print(f\"Unique labels: {df[2].unique()}\")\n",
    "print(f\"Count the unique values: \\n {df[2].value_counts()}\")"
   ]
  },
  {
   "cell_type": "code",
   "execution_count": 9,
   "id": "584cbd9a-3044-4def-bc04-958993783705",
   "metadata": {},
   "outputs": [
    {
     "data": {
      "text/plain": [
       "'Appreciate by the ( sonic ) electronic concepts / praxis Valenzuela and Landa - Posas do thread together together in creating this talk : multimodal visual listening, digital soundwalks, borderlands frameworks, participatory action research, interviews and testimonios... So many thoughtful thoughts and resonant intersections reflected here...'"
      ]
     },
     "execution_count": 9,
     "metadata": {},
     "output_type": "execute_result"
    }
   ],
   "source": [
    "df[df[2] == \"Irrelevant\"][3].iloc[4]"
   ]
  },
  {
   "cell_type": "code",
   "execution_count": 14,
   "id": "3c0d2c62-9f94-4cf8-b901-cb88818e2de2",
   "metadata": {},
   "outputs": [],
   "source": [
    "l = list(df[0])"
   ]
  },
  {
   "cell_type": "code",
   "execution_count": 31,
   "id": "b165246b-e65f-4638-91ac-6e3456f1eb5e",
   "metadata": {},
   "outputs": [
    {
     "data": {
      "text/plain": [
       "int"
      ]
     },
     "execution_count": 31,
     "metadata": {},
     "output_type": "execute_result"
    }
   ],
   "source": [
    "type(l[0])"
   ]
  },
  {
   "cell_type": "code",
   "execution_count": 17,
   "id": "c1f9ce31-128b-4bb8-ab1e-c713b700051a",
   "metadata": {},
   "outputs": [],
   "source": [
    "texts = list(df[3])"
   ]
  },
  {
   "cell_type": "code",
   "execution_count": 18,
   "id": "4dd0c81f-f129-462f-8d8a-513e1120aa05",
   "metadata": {},
   "outputs": [
    {
     "data": {
      "text/plain": [
       "['im getting on borderlands and i will murder you all ,',\n",
       " 'I am coming to the borders and I will kill you all,',\n",
       " 'im getting on borderlands and i will kill you all,',\n",
       " 'im coming on borderlands and i will murder you all,',\n",
       " 'im getting on borderlands 2 and i will murder you me all,',\n",
       " 'im getting into borderlands and i can murder you all,',\n",
       " \"So I spent a few hours making something for fun. . . If you don't know I am a HUGE @Borderlands fan and Maya is one of my favorite characters. So I decided to make myself a wallpaper for my PC. . Here is the original image versus the creation I made :) Enjoy! pic.twitter.com/mLsI5wf9Jg\",\n",
       " \"So I spent a couple of hours doing something for fun... If you don't know that I'm a huge @ Borderlands fan and Maya is one of my favorite characters, I decided to make a wallpaper for my PC.. Here's the original picture compared to the creation I made:) Have fun! pic.twitter.com / mLsI5wf9Jg\",\n",
       " \"So I spent a few hours doing something for fun... If you don't know I'm a HUGE @ Borderlands fan and Maya is one of my favorite characters.\",\n",
       " \"So I spent a few hours making something for fun. . . If you don't know I am a HUGE RhandlerR fan and Maya is one of my favorite characters. So I decided to make myself a wallpaper for my PC. . Here is the original image versus the creation I made :) Enjoy! pic.twitter.com/mLsI5wf9Jg\",\n",
       " \"2010 So I spent a few hours making something for fun. . . If you don't know I am a HUGE RhandlerR fan and Maya is one of my favorite characters. So I decided to make myself a wallpaper for my PC. . Here is the original image versus the creation I made :) Enjoy! pic.twitter.com/mLsI5wf9Jg\",\n",
       " 'was',\n",
       " 'Rock-Hard La Varlope, RARE & POWERFUL, HANDSOME JACKPOT, Borderlands 3 (Xbox) dlvr.it/RMTrgF  ',\n",
       " 'Rock-Hard La Varlope, RARE & POWERFUL, HANDSOME JACKPOT, Borderlands 3 (Xbox) dlvr.it / RMTrgF',\n",
       " 'Rock-Hard La Varlope, RARE & POWERFUL, HANDSOME JACKPOT, Borderlands 3 (Xbox) dfr.it / RMTrgF',\n",
       " 'Rock-Hard La Vita, RARE BUT POWERFUL, HANDSOME JACKPOT, Borderlands 1 (Xbox) dlvr.it/RMTrgF',\n",
       " 'Live Rock - Hard music La la Varlope, RARE & the POWERFUL, Live HANDSOME i JACKPOT, Borderlands 3 ( Sega Xbox ) dlvr. From it / e RMTrgF',\n",
       " 'I-Hard like me, RARE LONDON DE, HANDSOME 2011, Borderlands 3 (Xbox) dlvr.it/RMTrgF',\n",
       " 'that was the first borderlands session in a long time where i actually had a really satisfying combat experience. i got some really good kills',\n",
       " 'this was the first Borderlands session in a long time where i actually had a really satisfying fighting experience. i got some really good kills']"
      ]
     },
     "execution_count": 18,
     "metadata": {},
     "output_type": "execute_result"
    }
   ],
   "source": [
    "texts[:20]"
   ]
  },
  {
   "cell_type": "code",
   "execution_count": 19,
   "id": "d1c5983f-0826-4b9d-9c35-5bedfa5d0f64",
   "metadata": {},
   "outputs": [],
   "source": [
    "title = list(df[1])"
   ]
  },
  {
   "cell_type": "markdown",
   "id": "a1e2b4f1-f9c1-4ea1-8841-aee3a7917dec",
   "metadata": {},
   "source": [
    "# Conclusions about the columns\n",
    "\n",
    "## The first column contains the id of the sentence, same id means the sentences have the same origin with a modification"
   ]
  },
  {
   "cell_type": "markdown",
   "id": "8f042b7e-ca20-47b4-b56f-d31f2342f45a",
   "metadata": {},
   "source": [
    "# Checking if the labels are the same for the same sentences"
   ]
  },
  {
   "cell_type": "code",
   "execution_count": 29,
   "id": "9543ff79-0471-4fab-b132-fa762c01db97",
   "metadata": {},
   "outputs": [],
   "source": [
    "labels = list(df[2])"
   ]
  },
  {
   "cell_type": "code",
   "execution_count": 36,
   "id": "e6f18c9e-e136-4579-875d-2acb4c6a2a8f",
   "metadata": {},
   "outputs": [],
   "source": [
    "for index, label1 in enumerate(labels):\n",
    "    for index_2, label2 in enumerate(labels):\n",
    "        if index == index_2:\n",
    "            continue\n",
    "        if l[index_2] != l[index]:\n",
    "            break\n",
    "            \n",
    "        msg = f\"\"\"\n",
    "        ids: {l[index]} {l[index_2]}\n",
    "        Labels: {label1} {label2}\n",
    "        {texts[index]} \\n\\n \n",
    "        {texts[index_2]}\n",
    "        \"\"\"\n",
    "        assert label1 == label2, msg"
   ]
  },
  {
   "cell_type": "markdown",
   "id": "092fcf54-4af5-4e71-9530-d995bbfc9291",
   "metadata": {},
   "source": [
    "# Conclusion proof: The first column is the id, same id - same label"
   ]
  },
  {
   "cell_type": "code",
   "execution_count": null,
   "id": "83571468-41a4-45d3-a904-09fbcdec9d93",
   "metadata": {},
   "outputs": [],
   "source": []
  }
 ],
 "metadata": {
  "kernelspec": {
   "display_name": "Python 3 (ipykernel)",
   "language": "python",
   "name": "python3"
  },
  "language_info": {
   "codemirror_mode": {
    "name": "ipython",
    "version": 3
   },
   "file_extension": ".py",
   "mimetype": "text/x-python",
   "name": "python",
   "nbconvert_exporter": "python",
   "pygments_lexer": "ipython3",
   "version": "3.8.13"
  }
 },
 "nbformat": 4,
 "nbformat_minor": 5
}
